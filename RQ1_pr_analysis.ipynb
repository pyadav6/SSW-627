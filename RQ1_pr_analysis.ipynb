{
 "cells": [
  {
   "cell_type": "code",
   "execution_count": 1,
   "id": "f3367026",
   "metadata": {},
   "outputs": [],
   "source": [
    "import pandas as pd"
   ]
  },
  {
   "cell_type": "code",
   "execution_count": 2,
   "id": "288d1ee2",
   "metadata": {},
   "outputs": [],
   "source": [
    "df1 = pd.read_csv(\"C:/Users/Dell/Desktop/AI for Software Engineering/Project/detected_patterns_pr.csv\")\n",
    "df2 = pd.read_csv(\"C:/Users/Dell/Desktop/AI for Software Engineering/Project/detected_patterns_pr2.csv\")"
   ]
  },
  {
   "cell_type": "code",
   "execution_count": 4,
   "id": "e8f94f8a",
   "metadata": {},
   "outputs": [
    {
     "data": {
      "text/html": [
       "<div>\n",
       "<style scoped>\n",
       "    .dataframe tbody tr th:only-of-type {\n",
       "        vertical-align: middle;\n",
       "    }\n",
       "\n",
       "    .dataframe tbody tr th {\n",
       "        vertical-align: top;\n",
       "    }\n",
       "\n",
       "    .dataframe thead th {\n",
       "        text-align: right;\n",
       "    }\n",
       "</style>\n",
       "<table border=\"1\" class=\"dataframe\">\n",
       "  <thead>\n",
       "    <tr style=\"text-align: right;\">\n",
       "      <th></th>\n",
       "      <th>Pull Request Number</th>\n",
       "      <th>Detected Pattern</th>\n",
       "      <th>State</th>\n",
       "      <th>Time Lapsed</th>\n",
       "      <th>Number of Prompts</th>\n",
       "      <th>Conversation</th>\n",
       "    </tr>\n",
       "  </thead>\n",
       "  <tbody>\n",
       "    <tr>\n",
       "      <th>0</th>\n",
       "      <td>20</td>\n",
       "      <td>Output Automator Pattern</td>\n",
       "      <td>Closed</td>\n",
       "      <td>16:44:32</td>\n",
       "      <td>3.0</td>\n",
       "      <td>https://chat.openai.com/share/6a1f6db3-3ea1-44...</td>\n",
       "    </tr>\n",
       "    <tr>\n",
       "      <th>1</th>\n",
       "      <td>3</td>\n",
       "      <td>Simple Instruction Pattern</td>\n",
       "      <td>Closed</td>\n",
       "      <td>23:27:10</td>\n",
       "      <td>20.0</td>\n",
       "      <td>https://chat.openai.com/share/76af53fb-7cc5-4f...</td>\n",
       "    </tr>\n",
       "    <tr>\n",
       "      <th>2</th>\n",
       "      <td>638</td>\n",
       "      <td>Output Automator Pattern</td>\n",
       "      <td>Open</td>\n",
       "      <td>NaN</td>\n",
       "      <td>3.0</td>\n",
       "      <td>https://chat.openai.com/share/b515e3dc-6193-45...</td>\n",
       "    </tr>\n",
       "    <tr>\n",
       "      <th>3</th>\n",
       "      <td>638</td>\n",
       "      <td>Simple Instruction Pattern</td>\n",
       "      <td>Open</td>\n",
       "      <td>NaN</td>\n",
       "      <td>3.0</td>\n",
       "      <td>https://chat.openai.com/share/b515e3dc-6193-45...</td>\n",
       "    </tr>\n",
       "    <tr>\n",
       "      <th>4</th>\n",
       "      <td>638</td>\n",
       "      <td>Question Pattern</td>\n",
       "      <td>Open</td>\n",
       "      <td>NaN</td>\n",
       "      <td>3.0</td>\n",
       "      <td>https://chat.openai.com/share/b515e3dc-6193-45...</td>\n",
       "    </tr>\n",
       "  </tbody>\n",
       "</table>\n",
       "</div>"
      ],
      "text/plain": [
       "   Pull Request Number            Detected Pattern   State Time Lapsed  \\\n",
       "0                   20    Output Automator Pattern  Closed    16:44:32   \n",
       "1                    3  Simple Instruction Pattern  Closed    23:27:10   \n",
       "2                  638    Output Automator Pattern    Open         NaN   \n",
       "3                  638  Simple Instruction Pattern    Open         NaN   \n",
       "4                  638            Question Pattern    Open         NaN   \n",
       "\n",
       "   Number of Prompts                                       Conversation  \n",
       "0                3.0  https://chat.openai.com/share/6a1f6db3-3ea1-44...  \n",
       "1               20.0  https://chat.openai.com/share/76af53fb-7cc5-4f...  \n",
       "2                3.0  https://chat.openai.com/share/b515e3dc-6193-45...  \n",
       "3                3.0  https://chat.openai.com/share/b515e3dc-6193-45...  \n",
       "4                3.0  https://chat.openai.com/share/b515e3dc-6193-45...  "
      ]
     },
     "execution_count": 4,
     "metadata": {},
     "output_type": "execute_result"
    }
   ],
   "source": [
    "df_combined = pd.concat([df1, df2], ignore_index=True)\n",
    "df_combined.head()"
   ]
  },
  {
   "cell_type": "code",
   "execution_count": 21,
   "id": "9187c9e6",
   "metadata": {},
   "outputs": [
    {
     "name": "stdout",
     "output_type": "stream",
     "text": [
      "     Pull Request Number                 Detected Pattern   State  \\\n",
      "2                    638         Output Automator Pattern    Open   \n",
      "3                    638       Simple Instruction Pattern    Open   \n",
      "4                    638                 Question Pattern    Open   \n",
      "5                    119         Output Automator Pattern    Open   \n",
      "6                    119                 Question Pattern    Open   \n",
      "31                   539       Simple Instruction Pattern    Open   \n",
      "47                    92         Output Automator Pattern  Closed   \n",
      "48                    92       Simple Instruction Pattern  Closed   \n",
      "72                 12428                 Template Pattern    Open   \n",
      "73                 12428       Simple Instruction Pattern    Open   \n",
      "74                 12428                 Question Pattern    Open   \n",
      "95                    74                 Question Pattern    Open   \n",
      "110                  185         Output Automator Pattern    Open   \n",
      "127                   30         Output Automator Pattern  Closed   \n",
      "165                  771                  Persona Pattern  Closed   \n",
      "166                  771                   Recipe Pattern  Closed   \n",
      "167                  771         Output Automator Pattern  Closed   \n",
      "168                  771       Simple Instruction Pattern  Closed   \n",
      "169                  771                 Question Pattern  Closed   \n",
      "196                 2333                 Question Pattern  Closed   \n",
      "204                 1205       Simple Instruction Pattern  Closed   \n",
      "211                  638         Output Automator Pattern    Open   \n",
      "212                  638       Simple Instruction Pattern    Open   \n",
      "213                  638                 Question Pattern    Open   \n",
      "224                  539       Simple Instruction Pattern    Open   \n",
      "250                   92         Output Automator Pattern  Closed   \n",
      "251                   92       Simple Instruction Pattern  Closed   \n",
      "270                 1936                  Persona Pattern    Open   \n",
      "271                 1936                   Recipe Pattern    Open   \n",
      "272                 1936         Output Automator Pattern    Open   \n",
      "273                 1936       Simple Instruction Pattern    Open   \n",
      "274                 1936  Context and Instruction Pattern    Open   \n",
      "275                 1936                 Question Pattern    Open   \n",
      "276                12428                 Template Pattern    Open   \n",
      "277                12428       Simple Instruction Pattern    Open   \n",
      "278                12428                 Question Pattern    Open   \n",
      "302                   74                 Question Pattern    Open   \n",
      "336                   30         Output Automator Pattern  Closed   \n",
      "365                  185         Output Automator Pattern    Open   \n",
      "372                  771                  Persona Pattern  Closed   \n",
      "373                  771                   Recipe Pattern  Closed   \n",
      "374                  771         Output Automator Pattern  Closed   \n",
      "375                  771       Simple Instruction Pattern  Closed   \n",
      "376                  771                 Question Pattern  Closed   \n",
      "404                 2333                 Question Pattern  Closed   \n",
      "412                 1205       Simple Instruction Pattern  Closed   \n",
      "\n",
      "           Time Lapsed  Number of Prompts  \\\n",
      "2                  NaN                3.0   \n",
      "3                  NaN                3.0   \n",
      "4                  NaN                3.0   \n",
      "5                  NaN                1.0   \n",
      "6                  NaN                1.0   \n",
      "31                 NaN                4.0   \n",
      "47      1 day, 3:54:10                NaN   \n",
      "48      1 day, 3:54:10                NaN   \n",
      "72                 NaN                1.0   \n",
      "73                 NaN                1.0   \n",
      "74                 NaN                1.0   \n",
      "95                 NaN                3.0   \n",
      "110                NaN                8.0   \n",
      "127  35 days, 16:08:03                NaN   \n",
      "165   46 days, 9:21:43                NaN   \n",
      "166   46 days, 9:21:43                NaN   \n",
      "167   46 days, 9:21:43                NaN   \n",
      "168   46 days, 9:21:43                NaN   \n",
      "169   46 days, 9:21:43                NaN   \n",
      "196   31 days, 5:53:21                NaN   \n",
      "204   16 days, 2:46:51                NaN   \n",
      "211                NaN                3.0   \n",
      "212                NaN                3.0   \n",
      "213                NaN                3.0   \n",
      "224                NaN                4.0   \n",
      "250     1 day, 3:54:10                NaN   \n",
      "251     1 day, 3:54:10                NaN   \n",
      "270                NaN                1.0   \n",
      "271                NaN                1.0   \n",
      "272                NaN                1.0   \n",
      "273                NaN                1.0   \n",
      "274                NaN                1.0   \n",
      "275                NaN                1.0   \n",
      "276                NaN                1.0   \n",
      "277                NaN                1.0   \n",
      "278                NaN                1.0   \n",
      "302                NaN                3.0   \n",
      "336  35 days, 16:08:03                NaN   \n",
      "365                NaN                8.0   \n",
      "372   46 days, 9:21:43                NaN   \n",
      "373   46 days, 9:21:43                NaN   \n",
      "374   46 days, 9:21:43                NaN   \n",
      "375   46 days, 9:21:43                NaN   \n",
      "376   46 days, 9:21:43                NaN   \n",
      "404   31 days, 5:53:21                NaN   \n",
      "412   16 days, 2:46:51                NaN   \n",
      "\n",
      "                                          Conversation  \n",
      "2    https://chat.openai.com/share/b515e3dc-6193-45...  \n",
      "3    https://chat.openai.com/share/b515e3dc-6193-45...  \n",
      "4    https://chat.openai.com/share/b515e3dc-6193-45...  \n",
      "5    https://chat.openai.com/share/4555f0ea-1e7b-49...  \n",
      "6    https://chat.openai.com/share/4555f0ea-1e7b-49...  \n",
      "31   https://chat.openai.com/share/f2b7484c-8455-47...  \n",
      "47   https://chat.openai.com/share/85160db7-9b3b-4e...  \n",
      "48   https://chat.openai.com/share/85160db7-9b3b-4e...  \n",
      "72   https://chat.openai.com/share/cbb73f9e-e57f-4a...  \n",
      "73   https://chat.openai.com/share/cbb73f9e-e57f-4a...  \n",
      "74   https://chat.openai.com/share/cbb73f9e-e57f-4a...  \n",
      "95   https://chat.openai.com/share/53a01ea6-d655-4b...  \n",
      "110  https://chat.openai.com/share/99d2ebdc-613c-4a...  \n",
      "127  https://chat.openai.com/share/89a03f1a-1d3c-42...  \n",
      "165  https://chat.openai.com/share/5b362f07-f365-44...  \n",
      "166  https://chat.openai.com/share/5b362f07-f365-44...  \n",
      "167  https://chat.openai.com/share/5b362f07-f365-44...  \n",
      "168  https://chat.openai.com/share/5b362f07-f365-44...  \n",
      "169  https://chat.openai.com/share/5b362f07-f365-44...  \n",
      "196  https://chat.openai.com/share/9dfbd2c1-56a5-42...  \n",
      "204  https://chat.openai.com/share/d13161ad-4054-42...  \n",
      "211  https://chat.openai.com/share/b515e3dc-6193-45...  \n",
      "212  https://chat.openai.com/share/b515e3dc-6193-45...  \n",
      "213  https://chat.openai.com/share/b515e3dc-6193-45...  \n",
      "224  https://chat.openai.com/share/f2b7484c-8455-47...  \n",
      "250  https://chat.openai.com/share/85160db7-9b3b-4e...  \n",
      "251  https://chat.openai.com/share/85160db7-9b3b-4e...  \n",
      "270  https://chat.openai.com/share/3790441c-57e1-49...  \n",
      "271  https://chat.openai.com/share/3790441c-57e1-49...  \n",
      "272  https://chat.openai.com/share/3790441c-57e1-49...  \n",
      "273  https://chat.openai.com/share/3790441c-57e1-49...  \n",
      "274  https://chat.openai.com/share/3790441c-57e1-49...  \n",
      "275  https://chat.openai.com/share/3790441c-57e1-49...  \n",
      "276  https://chat.openai.com/share/cbb73f9e-e57f-4a...  \n",
      "277  https://chat.openai.com/share/cbb73f9e-e57f-4a...  \n",
      "278  https://chat.openai.com/share/cbb73f9e-e57f-4a...  \n",
      "302  https://chat.openai.com/share/53a01ea6-d655-4b...  \n",
      "336  https://chat.openai.com/share/89a03f1a-1d3c-42...  \n",
      "365  https://chat.openai.com/share/99d2ebdc-613c-4a...  \n",
      "372  https://chat.openai.com/share/5b362f07-f365-44...  \n",
      "373  https://chat.openai.com/share/5b362f07-f365-44...  \n",
      "374  https://chat.openai.com/share/5b362f07-f365-44...  \n",
      "375  https://chat.openai.com/share/5b362f07-f365-44...  \n",
      "376  https://chat.openai.com/share/5b362f07-f365-44...  \n",
      "404  https://chat.openai.com/share/9dfbd2c1-56a5-42...  \n",
      "412  https://chat.openai.com/share/d13161ad-4054-42...  \n",
      "Pull Request Number     0\n",
      "Detected Pattern        0\n",
      "State                   0\n",
      "Time Lapsed            26\n",
      "Number of Prompts      20\n",
      "Conversation            0\n",
      "dtype: int64\n"
     ]
    }
   ],
   "source": [
    "# Identifying missing values\n",
    "#df_combined.info()\n",
    "print(df_combined[df_combined.isna().any(axis=1)]) # show the na in the data frame\n",
    "missing_values =df_combined.isnull().sum()\n",
    "print(missing_values)"
   ]
  },
  {
   "cell_type": "code",
   "execution_count": 23,
   "id": "261636c9",
   "metadata": {},
   "outputs": [
    {
     "name": "stdout",
     "output_type": "stream",
     "text": [
      "Mean Number of Prompts for 'Open' State: 2\n"
     ]
    }
   ],
   "source": [
    "# Replacing the NaN value in Number of Prompt column with mean value\n",
    "df_combined[\"Number of Prompts\"] = pd.to_numeric(df_combined[\"Number of Prompts\"], errors=\"coerce\")\n",
    "\n",
    "# Calculate the mean of \"Number of Prompts\" when State is \"Open\"\n",
    "mean_open_prompts = df_combined.loc[df_combined[\"State\"] == \"Open\", \"Number of Prompts\"].mean()\n",
    "\n",
    "# Round the mean to the nearest integer\n",
    "mean_open_prompts_rounded = round(mean_open_prompts)\n",
    "\n",
    "# Replace NaN values in \"Number of Prompts\" with this mean\n",
    "df_combined[\"Number of Prompts\"].fillna(mean_open_prompts_rounded, inplace=True)\n",
    "\n",
    "print(\"Mean Number of Prompts for 'Open' State:\", mean_open_prompts_rounded)"
   ]
  },
  {
   "cell_type": "code",
   "execution_count": 24,
   "id": "c977fdd5",
   "metadata": {},
   "outputs": [
    {
     "name": "stdout",
     "output_type": "stream",
     "text": [
      "Mean Number of Prompts for closed State: 4\n"
     ]
    }
   ],
   "source": [
    "# Calculate the mean of \"Number of Prompts\" where \"State\" is \"closed\"\n",
    "mean_closed_prompts = df_combined.loc[df_combined[\"State\"] == \"Closed\", \"Number of Prompts\"].mean()\n",
    "\n",
    "# Round the mean to the nearest integer\n",
    "mean_closed_prompts_rounded = round(mean_closed_prompts)\n",
    "\n",
    "# Replace NaN values in \"Number of Prompts\" with this mean\n",
    "df_combined[\"Number of Prompts\"].fillna(mean_closed_prompts_rounded, inplace=True)\n",
    "\n",
    "print(\"Mean Number of Prompts for closed State:\", mean_closed_prompts_rounded)"
   ]
  },
  {
   "cell_type": "code",
   "execution_count": 25,
   "id": "7d668698",
   "metadata": {},
   "outputs": [],
   "source": [
    "col = \"Detected Pattern\"\n",
    "pattern_in_file = df_combined[col].unique()"
   ]
  },
  {
   "cell_type": "code",
   "execution_count": 27,
   "id": "c65e4415",
   "metadata": {},
   "outputs": [
    {
     "name": "stdout",
     "output_type": "stream",
     "text": [
      "{'Output Automator Pattern': 78, 'Simple Instruction Pattern': 67, 'Question Pattern': 66, 'Recipe Pattern': 20, 'Persona Pattern': 16, 'Template Pattern': 10, 'Context and Instruction Pattern': 10}\n"
     ]
    }
   ],
   "source": [
    "# Filter DataFrame based on State == Closed and Number of Prompts <5 (according to the mean found)\n",
    "filtered_df = df_combined[(df_combined[\"State\"] == \"Closed\") & (df_combined[\"Number of Prompts\"] < 5)]\n",
    "pattern_dict = filtered_df[\"Detected Pattern\"].value_counts().to_dict()\n",
    "print(pattern_dict)"
   ]
  },
  {
   "cell_type": "code",
   "execution_count": 28,
   "id": "4c23d12a",
   "metadata": {},
   "outputs": [
    {
     "name": "stdout",
     "output_type": "stream",
     "text": [
      "{'Question Pattern': 8, 'Simple Instruction Pattern': 7, 'Output Automator Pattern': 6, 'Template Pattern': 2, 'Persona Pattern': 1, 'Recipe Pattern': 1, 'Context and Instruction Pattern': 1}\n"
     ]
    }
   ],
   "source": [
    "# Filter DataFrame based on State == Open\n",
    "filtered_df = df_combined[(df_combined[\"State\"] == \"Open\")]\n",
    "pattern_dict = filtered_df[\"Detected Pattern\"].value_counts().to_dict()\n",
    "print(pattern_dict)"
   ]
  },
  {
   "cell_type": "code",
   "execution_count": 31,
   "id": "cd8e265b",
   "metadata": {},
   "outputs": [
    {
     "data": {
      "text/plain": [
       "(413, 6)"
      ]
     },
     "execution_count": 31,
     "metadata": {},
     "output_type": "execute_result"
    }
   ],
   "source": [
    "df_combined.shape"
   ]
  },
  {
   "cell_type": "code",
   "execution_count": null,
   "id": "0c6a2e70",
   "metadata": {},
   "outputs": [],
   "source": []
  }
 ],
 "metadata": {
  "kernelspec": {
   "display_name": "Python 3 (ipykernel)",
   "language": "python",
   "name": "python3"
  },
  "language_info": {
   "codemirror_mode": {
    "name": "ipython",
    "version": 3
   },
   "file_extension": ".py",
   "mimetype": "text/x-python",
   "name": "python",
   "nbconvert_exporter": "python",
   "pygments_lexer": "ipython3",
   "version": "3.11.7"
  }
 },
 "nbformat": 4,
 "nbformat_minor": 5
}
