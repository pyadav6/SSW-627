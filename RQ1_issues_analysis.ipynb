{
 "cells": [
  {
   "cell_type": "code",
   "execution_count": 1,
   "id": "3ab05ac8",
   "metadata": {},
   "outputs": [],
   "source": [
    "import pandas as pd"
   ]
  },
  {
   "cell_type": "code",
   "execution_count": 2,
   "id": "cd0c96e2",
   "metadata": {},
   "outputs": [],
   "source": [
    "df1 = pd.read_csv(\"C:/Users/Dell/Desktop/AI for Software Engineering/Project/detected_patterns_issues.csv\")\n",
    "df2 = pd.read_csv(\"C:/Users/Dell/Desktop/AI for Software Engineering/Project/detected_patterns_issues2.csv\")"
   ]
  },
  {
   "cell_type": "code",
   "execution_count": 3,
   "id": "25105cbc",
   "metadata": {},
   "outputs": [
    {
     "data": {
      "text/html": [
       "<div>\n",
       "<style scoped>\n",
       "    .dataframe tbody tr th:only-of-type {\n",
       "        vertical-align: middle;\n",
       "    }\n",
       "\n",
       "    .dataframe tbody tr th {\n",
       "        vertical-align: top;\n",
       "    }\n",
       "\n",
       "    .dataframe thead th {\n",
       "        text-align: right;\n",
       "    }\n",
       "</style>\n",
       "<table border=\"1\" class=\"dataframe\">\n",
       "  <thead>\n",
       "    <tr style=\"text-align: right;\">\n",
       "      <th></th>\n",
       "      <th>Pull Request Number</th>\n",
       "      <th>Detected Pattern</th>\n",
       "      <th>State</th>\n",
       "      <th>Time Lapsed</th>\n",
       "      <th>Number of Prompts</th>\n",
       "      <th>Conversation</th>\n",
       "      <th>Issue Number</th>\n",
       "    </tr>\n",
       "  </thead>\n",
       "  <tbody>\n",
       "    <tr>\n",
       "      <th>0</th>\n",
       "      <td>2.0</td>\n",
       "      <td>Output Automator Pattern</td>\n",
       "      <td>Open</td>\n",
       "      <td>NaN</td>\n",
       "      <td>1.0</td>\n",
       "      <td>https://chat.openai.com/share/957a3f2c-2d05-4e...</td>\n",
       "      <td>NaN</td>\n",
       "    </tr>\n",
       "    <tr>\n",
       "      <th>1</th>\n",
       "      <td>7.0</td>\n",
       "      <td>Question Pattern</td>\n",
       "      <td>Open</td>\n",
       "      <td>NaN</td>\n",
       "      <td>1.0</td>\n",
       "      <td>https://chat.openai.com/share/e377307e-039a-4f...</td>\n",
       "      <td>NaN</td>\n",
       "    </tr>\n",
       "    <tr>\n",
       "      <th>2</th>\n",
       "      <td>9.0</td>\n",
       "      <td>Output Automator Pattern</td>\n",
       "      <td>Open</td>\n",
       "      <td>NaN</td>\n",
       "      <td>NaN</td>\n",
       "      <td>https://chat.openai.com/share/dcedb99c-f79c-41...</td>\n",
       "      <td>NaN</td>\n",
       "    </tr>\n",
       "    <tr>\n",
       "      <th>3</th>\n",
       "      <td>1.0</td>\n",
       "      <td>Template Pattern</td>\n",
       "      <td>Open</td>\n",
       "      <td>NaN</td>\n",
       "      <td>1.0</td>\n",
       "      <td>https://chat.openai.com/share/b9df6ce0-f2c9-41...</td>\n",
       "      <td>NaN</td>\n",
       "    </tr>\n",
       "    <tr>\n",
       "      <th>4</th>\n",
       "      <td>39.0</td>\n",
       "      <td>Output Automator Pattern</td>\n",
       "      <td>Open</td>\n",
       "      <td>NaN</td>\n",
       "      <td>2.0</td>\n",
       "      <td>https://chat.openai.com/share/47222295-450c-42...</td>\n",
       "      <td>NaN</td>\n",
       "    </tr>\n",
       "  </tbody>\n",
       "</table>\n",
       "</div>"
      ],
      "text/plain": [
       "   Pull Request Number          Detected Pattern State Time Lapsed  \\\n",
       "0                  2.0  Output Automator Pattern  Open         NaN   \n",
       "1                  7.0          Question Pattern  Open         NaN   \n",
       "2                  9.0  Output Automator Pattern  Open         NaN   \n",
       "3                  1.0          Template Pattern  Open         NaN   \n",
       "4                 39.0  Output Automator Pattern  Open         NaN   \n",
       "\n",
       "   Number of Prompts                                       Conversation  \\\n",
       "0                1.0  https://chat.openai.com/share/957a3f2c-2d05-4e...   \n",
       "1                1.0  https://chat.openai.com/share/e377307e-039a-4f...   \n",
       "2                NaN  https://chat.openai.com/share/dcedb99c-f79c-41...   \n",
       "3                1.0  https://chat.openai.com/share/b9df6ce0-f2c9-41...   \n",
       "4                2.0  https://chat.openai.com/share/47222295-450c-42...   \n",
       "\n",
       "   Issue Number  \n",
       "0           NaN  \n",
       "1           NaN  \n",
       "2           NaN  \n",
       "3           NaN  \n",
       "4           NaN  "
      ]
     },
     "execution_count": 3,
     "metadata": {},
     "output_type": "execute_result"
    }
   ],
   "source": [
    "df_combined = pd.concat([df1, df2], ignore_index=True)\n",
    "df_combined.head()"
   ]
  },
  {
   "cell_type": "code",
   "execution_count": 4,
   "id": "28a562ff",
   "metadata": {},
   "outputs": [
    {
     "name": "stdout",
     "output_type": "stream",
     "text": [
      "     Pull Request Number            Detected Pattern   State  \\\n",
      "0                    2.0    Output Automator Pattern    Open   \n",
      "1                    7.0            Question Pattern    Open   \n",
      "2                    9.0    Output Automator Pattern    Open   \n",
      "3                    1.0            Template Pattern    Open   \n",
      "4                   39.0    Output Automator Pattern    Open   \n",
      "..                   ...                         ...     ...   \n",
      "467                  NaN  Simple Instruction Pattern  Closed   \n",
      "468                  NaN            Question Pattern  Closed   \n",
      "469                  NaN    Output Automator Pattern  Closed   \n",
      "470                  NaN  Simple Instruction Pattern  Closed   \n",
      "471                  NaN            Question Pattern  Closed   \n",
      "\n",
      "            Time Lapsed  Number of Prompts  \\\n",
      "0                   NaN                1.0   \n",
      "1                   NaN                1.0   \n",
      "2                   NaN                NaN   \n",
      "3                   NaN                1.0   \n",
      "4                   NaN                2.0   \n",
      "..                  ...                ...   \n",
      "467   48 days, 16:46:43                1.0   \n",
      "468   48 days, 16:46:43                1.0   \n",
      "469  788 days, 22:56:19               22.0   \n",
      "470  788 days, 22:56:19               22.0   \n",
      "471  788 days, 22:56:19               22.0   \n",
      "\n",
      "                                          Conversation  Issue Number  \n",
      "0    https://chat.openai.com/share/957a3f2c-2d05-4e...           NaN  \n",
      "1    https://chat.openai.com/share/e377307e-039a-4f...           NaN  \n",
      "2    https://chat.openai.com/share/dcedb99c-f79c-41...           NaN  \n",
      "3    https://chat.openai.com/share/b9df6ce0-f2c9-41...           NaN  \n",
      "4    https://chat.openai.com/share/47222295-450c-42...           NaN  \n",
      "..                                                 ...           ...  \n",
      "467  https://chat.openai.com/share/43ed295b-993b-4c...         288.0  \n",
      "468  https://chat.openai.com/share/43ed295b-993b-4c...         288.0  \n",
      "469  https://chat.openai.com/share/0b86282d-7073-41...           1.0  \n",
      "470  https://chat.openai.com/share/0b86282d-7073-41...           1.0  \n",
      "471  https://chat.openai.com/share/0b86282d-7073-41...           1.0  \n",
      "\n",
      "[472 rows x 7 columns]\n",
      "Pull Request Number    222\n",
      "Detected Pattern         0\n",
      "State                    0\n",
      "Time Lapsed            253\n",
      "Number of Prompts       40\n",
      "Conversation             0\n",
      "Issue Number           250\n",
      "dtype: int64\n"
     ]
    }
   ],
   "source": [
    "# Identifying missing values\n",
    "print(df_combined[df_combined.isna().any(axis=1)]) # show the na in the data frame\n",
    "missing_values =df_combined.isnull().sum()\n",
    "print(missing_values)"
   ]
  },
  {
   "cell_type": "code",
   "execution_count": 5,
   "id": "0a9bab46",
   "metadata": {},
   "outputs": [
    {
     "name": "stdout",
     "output_type": "stream",
     "text": [
      "Mean Number of Prompts for closed State: 4\n"
     ]
    }
   ],
   "source": [
    "# Calculate the mean of \"Number of Prompts\" where \"State\" is \"closed\"\n",
    "mean_closed_prompts = df_combined.loc[df_combined[\"State\"] == \"Closed\", \"Number of Prompts\"].mean()\n",
    "\n",
    "# Round the mean to the nearest integer\n",
    "mean_closed_prompts_rounded = round(mean_closed_prompts)\n",
    "\n",
    "# Replace NaN values in \"Number of Prompts\" with this mean\n",
    "df_combined[\"Number of Prompts\"].fillna(mean_closed_prompts_rounded, inplace=True)\n",
    "\n",
    "print(\"Mean Number of Prompts for closed State:\", mean_closed_prompts_rounded)"
   ]
  },
  {
   "cell_type": "code",
   "execution_count": 6,
   "id": "f04143f0",
   "metadata": {},
   "outputs": [],
   "source": [
    "col = \"Detected Pattern\"\n",
    "pattern_in_file = df_combined[col].unique()"
   ]
  },
  {
   "cell_type": "code",
   "execution_count": 7,
   "id": "114f0528",
   "metadata": {},
   "outputs": [
    {
     "name": "stdout",
     "output_type": "stream",
     "text": [
      "{'Question Pattern': 63, 'Output Automator Pattern': 61, 'Simple Instruction Pattern': 33, 'Persona Pattern': 10, 'Template Pattern': 8, 'Context and Instruction Pattern': 2}\n"
     ]
    }
   ],
   "source": [
    "# Filter DataFrame based on State == Closed and Number of Prompts <5 (according to the mean found)\n",
    "filtered_df = df_combined[(df_combined[\"State\"] == \"Closed\") & (df_combined[\"Number of Prompts\"] < 5)]\n",
    "pattern_dict = filtered_df[\"Detected Pattern\"].value_counts().to_dict()\n",
    "print(pattern_dict)"
   ]
  },
  {
   "cell_type": "code",
   "execution_count": 8,
   "id": "642b0f85",
   "metadata": {},
   "outputs": [
    {
     "name": "stdout",
     "output_type": "stream",
     "text": [
      "Mean Number of Prompts for 'Open' State: 4\n"
     ]
    }
   ],
   "source": [
    "# Replacing the NaN value in Number of Prompt column with mean value\n",
    "df_combined[\"Number of Prompts\"] = pd.to_numeric(df_combined[\"Number of Prompts\"], errors=\"coerce\")\n",
    "\n",
    "# Calculate the mean of \"Number of Prompts\" when State is \"Open\"\n",
    "mean_open_prompts = df_combined.loc[df_combined[\"State\"] == \"Open\", \"Number of Prompts\"].mean()\n",
    "\n",
    "# Round the mean to the nearest integer\n",
    "mean_open_prompts_rounded = round(mean_open_prompts)\n",
    "\n",
    "# Replace NaN values in \"Number of Prompts\" with this mean\n",
    "df_combined[\"Number of Prompts\"].fillna(mean_open_prompts_rounded, inplace=True)\n",
    "\n",
    "print(\"Mean Number of Prompts for 'Open' State:\", mean_open_prompts_rounded)"
   ]
  },
  {
   "cell_type": "code",
   "execution_count": 9,
   "id": "12ec3df3",
   "metadata": {},
   "outputs": [
    {
     "name": "stdout",
     "output_type": "stream",
     "text": [
      "{'Question Pattern': 91, 'Output Automator Pattern': 80, 'Simple Instruction Pattern': 46, 'Persona Pattern': 12, 'Context and Instruction Pattern': 12, 'Recipe Pattern': 8, 'Template Pattern': 4}\n"
     ]
    }
   ],
   "source": [
    "# Filter DataFrame based on State == Open\n",
    "filtered_df = df_combined[(df_combined[\"State\"] == \"Open\")]\n",
    "pattern_dict = filtered_df[\"Detected Pattern\"].value_counts().to_dict()\n",
    "print(pattern_dict)"
   ]
  },
  {
   "cell_type": "code",
   "execution_count": 10,
   "id": "e0b03591",
   "metadata": {},
   "outputs": [
    {
     "data": {
      "text/plain": [
       "(472, 7)"
      ]
     },
     "execution_count": 10,
     "metadata": {},
     "output_type": "execute_result"
    }
   ],
   "source": [
    "df_combined.shape"
   ]
  },
  {
   "cell_type": "code",
   "execution_count": null,
   "id": "7b88ad6b",
   "metadata": {},
   "outputs": [],
   "source": []
  }
 ],
 "metadata": {
  "kernelspec": {
   "display_name": "Python 3 (ipykernel)",
   "language": "python",
   "name": "python3"
  },
  "language_info": {
   "codemirror_mode": {
    "name": "ipython",
    "version": 3
   },
   "file_extension": ".py",
   "mimetype": "text/x-python",
   "name": "python",
   "nbconvert_exporter": "python",
   "pygments_lexer": "ipython3",
   "version": "3.11.7"
  }
 },
 "nbformat": 4,
 "nbformat_minor": 5
}
