{
 "cells": [
  {
   "cell_type": "code",
   "execution_count": 16,
   "id": "524f99ae",
   "metadata": {},
   "outputs": [],
   "source": [
    "import pandas as pd\n",
    "from sklearn.model_selection import train_test_split\n",
    "from sklearn.preprocessing import LabelEncoder, StandardScaler\n",
    "from sklearn.ensemble import RandomForestRegressor\n",
    "from sklearn.metrics import mean_squared_error, mean_absolute_error, r2_score"
   ]
  },
  {
   "cell_type": "code",
   "execution_count": 17,
   "id": "ded892dc",
   "metadata": {},
   "outputs": [
    {
     "data": {
      "text/html": [
       "<div>\n",
       "<style scoped>\n",
       "    .dataframe tbody tr th:only-of-type {\n",
       "        vertical-align: middle;\n",
       "    }\n",
       "\n",
       "    .dataframe tbody tr th {\n",
       "        vertical-align: top;\n",
       "    }\n",
       "\n",
       "    .dataframe thead th {\n",
       "        text-align: right;\n",
       "    }\n",
       "</style>\n",
       "<table border=\"1\" class=\"dataframe\">\n",
       "  <thead>\n",
       "    <tr style=\"text-align: right;\">\n",
       "      <th></th>\n",
       "      <th>Type</th>\n",
       "      <th>URL</th>\n",
       "      <th>Author</th>\n",
       "      <th>RepoName</th>\n",
       "      <th>RepoLanguage</th>\n",
       "      <th>Number</th>\n",
       "      <th>Title</th>\n",
       "      <th>Body</th>\n",
       "      <th>UpdatedAt</th>\n",
       "      <th>State</th>\n",
       "      <th>...</th>\n",
       "      <th>CSharing_Status</th>\n",
       "      <th>CSharing_DateOfConversation</th>\n",
       "      <th>CSharing_Title</th>\n",
       "      <th>CSharing_NumberOfPrompts</th>\n",
       "      <th>CSharing_TokensOfPrompts</th>\n",
       "      <th>CSharing_TokensOfAnswers</th>\n",
       "      <th>Conversation_Prompt</th>\n",
       "      <th>Conversation_Answer</th>\n",
       "      <th>Detected Patterns</th>\n",
       "      <th>Effectiveness_Score</th>\n",
       "    </tr>\n",
       "  </thead>\n",
       "  <tbody>\n",
       "    <tr>\n",
       "      <th>0</th>\n",
       "      <td>0</td>\n",
       "      <td>167</td>\n",
       "      <td>271</td>\n",
       "      <td>141</td>\n",
       "      <td>12</td>\n",
       "      <td>31</td>\n",
       "      <td>337</td>\n",
       "      <td>114</td>\n",
       "      <td>127</td>\n",
       "      <td>1</td>\n",
       "      <td>...</td>\n",
       "      <td>200</td>\n",
       "      <td>55</td>\n",
       "      <td>344</td>\n",
       "      <td>11</td>\n",
       "      <td>2637</td>\n",
       "      <td>4712</td>\n",
       "      <td>1371</td>\n",
       "      <td>2558</td>\n",
       "      <td>36</td>\n",
       "      <td>1.035861</td>\n",
       "    </tr>\n",
       "    <tr>\n",
       "      <th>1</th>\n",
       "      <td>0</td>\n",
       "      <td>167</td>\n",
       "      <td>271</td>\n",
       "      <td>141</td>\n",
       "      <td>12</td>\n",
       "      <td>31</td>\n",
       "      <td>337</td>\n",
       "      <td>114</td>\n",
       "      <td>127</td>\n",
       "      <td>1</td>\n",
       "      <td>...</td>\n",
       "      <td>200</td>\n",
       "      <td>55</td>\n",
       "      <td>344</td>\n",
       "      <td>11</td>\n",
       "      <td>2637</td>\n",
       "      <td>4712</td>\n",
       "      <td>1370</td>\n",
       "      <td>2559</td>\n",
       "      <td>36</td>\n",
       "      <td>1.035861</td>\n",
       "    </tr>\n",
       "    <tr>\n",
       "      <th>2</th>\n",
       "      <td>0</td>\n",
       "      <td>167</td>\n",
       "      <td>271</td>\n",
       "      <td>141</td>\n",
       "      <td>12</td>\n",
       "      <td>31</td>\n",
       "      <td>337</td>\n",
       "      <td>114</td>\n",
       "      <td>127</td>\n",
       "      <td>1</td>\n",
       "      <td>...</td>\n",
       "      <td>200</td>\n",
       "      <td>55</td>\n",
       "      <td>344</td>\n",
       "      <td>11</td>\n",
       "      <td>2637</td>\n",
       "      <td>4712</td>\n",
       "      <td>1400</td>\n",
       "      <td>2652</td>\n",
       "      <td>36</td>\n",
       "      <td>1.035861</td>\n",
       "    </tr>\n",
       "    <tr>\n",
       "      <th>3</th>\n",
       "      <td>0</td>\n",
       "      <td>167</td>\n",
       "      <td>271</td>\n",
       "      <td>141</td>\n",
       "      <td>12</td>\n",
       "      <td>31</td>\n",
       "      <td>337</td>\n",
       "      <td>114</td>\n",
       "      <td>127</td>\n",
       "      <td>1</td>\n",
       "      <td>...</td>\n",
       "      <td>200</td>\n",
       "      <td>55</td>\n",
       "      <td>344</td>\n",
       "      <td>11</td>\n",
       "      <td>2637</td>\n",
       "      <td>4712</td>\n",
       "      <td>1459</td>\n",
       "      <td>2579</td>\n",
       "      <td>36</td>\n",
       "      <td>1.035861</td>\n",
       "    </tr>\n",
       "    <tr>\n",
       "      <th>4</th>\n",
       "      <td>0</td>\n",
       "      <td>167</td>\n",
       "      <td>271</td>\n",
       "      <td>141</td>\n",
       "      <td>12</td>\n",
       "      <td>31</td>\n",
       "      <td>337</td>\n",
       "      <td>114</td>\n",
       "      <td>127</td>\n",
       "      <td>1</td>\n",
       "      <td>...</td>\n",
       "      <td>200</td>\n",
       "      <td>55</td>\n",
       "      <td>344</td>\n",
       "      <td>11</td>\n",
       "      <td>2637</td>\n",
       "      <td>4712</td>\n",
       "      <td>1457</td>\n",
       "      <td>2645</td>\n",
       "      <td>36</td>\n",
       "      <td>1.035861</td>\n",
       "    </tr>\n",
       "  </tbody>\n",
       "</table>\n",
       "<p>5 rows × 21 columns</p>\n",
       "</div>"
      ],
      "text/plain": [
       "   Type  URL  Author  RepoName  RepoLanguage  Number  Title  Body  UpdatedAt  \\\n",
       "0     0  167     271       141            12      31    337   114        127   \n",
       "1     0  167     271       141            12      31    337   114        127   \n",
       "2     0  167     271       141            12      31    337   114        127   \n",
       "3     0  167     271       141            12      31    337   114        127   \n",
       "4     0  167     271       141            12      31    337   114        127   \n",
       "\n",
       "   State  ...  CSharing_Status  CSharing_DateOfConversation  CSharing_Title  \\\n",
       "0      1  ...              200                           55             344   \n",
       "1      1  ...              200                           55             344   \n",
       "2      1  ...              200                           55             344   \n",
       "3      1  ...              200                           55             344   \n",
       "4      1  ...              200                           55             344   \n",
       "\n",
       "   CSharing_NumberOfPrompts  CSharing_TokensOfPrompts  \\\n",
       "0                        11                      2637   \n",
       "1                        11                      2637   \n",
       "2                        11                      2637   \n",
       "3                        11                      2637   \n",
       "4                        11                      2637   \n",
       "\n",
       "   CSharing_TokensOfAnswers  Conversation_Prompt  Conversation_Answer  \\\n",
       "0                      4712                 1371                 2558   \n",
       "1                      4712                 1370                 2559   \n",
       "2                      4712                 1400                 2652   \n",
       "3                      4712                 1459                 2579   \n",
       "4                      4712                 1457                 2645   \n",
       "\n",
       "   Detected Patterns  Effectiveness_Score  \n",
       "0                 36             1.035861  \n",
       "1                 36             1.035861  \n",
       "2                 36             1.035861  \n",
       "3                 36             1.035861  \n",
       "4                 36             1.035861  \n",
       "\n",
       "[5 rows x 21 columns]"
      ]
     },
     "execution_count": 17,
     "metadata": {},
     "output_type": "execute_result"
    }
   ],
   "source": [
    "# Load the DataFrame (replace with your actual data loading step)\n",
    "df = pd.read_csv('./issues_sharing_output_with_patterns_effectiveness_score.csv')\n",
    "df.head()"
   ]
  },
  {
   "cell_type": "code",
   "execution_count": 18,
   "id": "7d3e649d",
   "metadata": {},
   "outputs": [],
   "source": [
    "# Since the dataset is already encoded other than the Conversation_Answer column\n",
    "le = LabelEncoder()\n",
    "df['Conversation_Answer'] = le.fit_transform(df['Conversation_Answer'])"
   ]
  },
  {
   "cell_type": "code",
   "execution_count": 19,
   "id": "13fe0a68",
   "metadata": {},
   "outputs": [
    {
     "name": "stdout",
     "output_type": "stream",
     "text": [
      "['Type', 'URL', 'Author', 'RepoName', 'RepoLanguage', 'Number', 'Title', 'Body', 'UpdatedAt', 'State', 'CSharing_URL', 'CSharing_Status', 'CSharing_DateOfConversation', 'CSharing_Title', 'CSharing_NumberOfPrompts', 'CSharing_TokensOfPrompts', 'CSharing_TokensOfAnswers', 'Conversation_Prompt', 'Conversation_Answer', 'Detected Patterns', 'Effectiveness_Score']\n"
     ]
    }
   ],
   "source": [
    "print(df.columns.tolist())"
   ]
  },
  {
   "cell_type": "code",
   "execution_count": 20,
   "id": "35208cb9",
   "metadata": {},
   "outputs": [],
   "source": [
    "# Defining the features and target variables on the basis of correlation\n",
    "X = df[['Detected Patterns', 'CSharing_TokensOfPrompts','CSharing_TokensOfAnswers','CSharing_NumberOfPrompts','Conversation_Prompt','Conversation_Answer']]\n",
    "y = df['Effectiveness_Score']"
   ]
  },
  {
   "cell_type": "code",
   "execution_count": 21,
   "id": "1ba1d9ff",
   "metadata": {},
   "outputs": [
    {
     "name": "stderr",
     "output_type": "stream",
     "text": [
      "C:\\Temp\\ipykernel_22784\\2843760709.py:3: SettingWithCopyWarning: \n",
      "A value is trying to be set on a copy of a slice from a DataFrame.\n",
      "Try using .loc[row_indexer,col_indexer] = value instead\n",
      "\n",
      "See the caveats in the documentation: https://pandas.pydata.org/pandas-docs/stable/user_guide/indexing.html#returning-a-view-versus-a-copy\n",
      "  X[['Detected Patterns', 'CSharing_TokensOfPrompts','CSharing_TokensOfAnswers','CSharing_NumberOfPrompts','Conversation_Prompt','Conversation_Answer']] = scaler.fit_transform(X[['Detected Patterns', 'CSharing_TokensOfPrompts','CSharing_TokensOfAnswers','CSharing_NumberOfPrompts','Conversation_Prompt','Conversation_Answer']])\n"
     ]
    }
   ],
   "source": [
    "# Scaling all the columns\n",
    "scaler = StandardScaler()\n",
    "X[['Detected Patterns', 'CSharing_TokensOfPrompts','CSharing_TokensOfAnswers','CSharing_NumberOfPrompts','Conversation_Prompt','Conversation_Answer']] = scaler.fit_transform(X[['Detected Patterns', 'CSharing_TokensOfPrompts','CSharing_TokensOfAnswers','CSharing_NumberOfPrompts','Conversation_Prompt','Conversation_Answer']])"
   ]
  },
  {
   "cell_type": "code",
   "execution_count": 22,
   "id": "f9f804de",
   "metadata": {},
   "outputs": [],
   "source": [
    "# Splitting the data\n",
    "X_train, X_test, y_train, y_test = train_test_split(X, y, test_size=0.2, random_state=42)"
   ]
  },
  {
   "cell_type": "code",
   "execution_count": 23,
   "id": "3fa7c4bb",
   "metadata": {},
   "outputs": [],
   "source": [
    "# Model Selection (Random Forest Regressor)\n",
    "model = RandomForestRegressor(n_estimators=100, random_state=42)"
   ]
  },
  {
   "cell_type": "code",
   "execution_count": 24,
   "id": "465631f4",
   "metadata": {},
   "outputs": [
    {
     "data": {
      "text/html": [
       "<style>#sk-container-id-1 {color: black;background-color: white;}#sk-container-id-1 pre{padding: 0;}#sk-container-id-1 div.sk-toggleable {background-color: white;}#sk-container-id-1 label.sk-toggleable__label {cursor: pointer;display: block;width: 100%;margin-bottom: 0;padding: 0.3em;box-sizing: border-box;text-align: center;}#sk-container-id-1 label.sk-toggleable__label-arrow:before {content: \"▸\";float: left;margin-right: 0.25em;color: #696969;}#sk-container-id-1 label.sk-toggleable__label-arrow:hover:before {color: black;}#sk-container-id-1 div.sk-estimator:hover label.sk-toggleable__label-arrow:before {color: black;}#sk-container-id-1 div.sk-toggleable__content {max-height: 0;max-width: 0;overflow: hidden;text-align: left;background-color: #f0f8ff;}#sk-container-id-1 div.sk-toggleable__content pre {margin: 0.2em;color: black;border-radius: 0.25em;background-color: #f0f8ff;}#sk-container-id-1 input.sk-toggleable__control:checked~div.sk-toggleable__content {max-height: 200px;max-width: 100%;overflow: auto;}#sk-container-id-1 input.sk-toggleable__control:checked~label.sk-toggleable__label-arrow:before {content: \"▾\";}#sk-container-id-1 div.sk-estimator input.sk-toggleable__control:checked~label.sk-toggleable__label {background-color: #d4ebff;}#sk-container-id-1 div.sk-label input.sk-toggleable__control:checked~label.sk-toggleable__label {background-color: #d4ebff;}#sk-container-id-1 input.sk-hidden--visually {border: 0;clip: rect(1px 1px 1px 1px);clip: rect(1px, 1px, 1px, 1px);height: 1px;margin: -1px;overflow: hidden;padding: 0;position: absolute;width: 1px;}#sk-container-id-1 div.sk-estimator {font-family: monospace;background-color: #f0f8ff;border: 1px dotted black;border-radius: 0.25em;box-sizing: border-box;margin-bottom: 0.5em;}#sk-container-id-1 div.sk-estimator:hover {background-color: #d4ebff;}#sk-container-id-1 div.sk-parallel-item::after {content: \"\";width: 100%;border-bottom: 1px solid gray;flex-grow: 1;}#sk-container-id-1 div.sk-label:hover label.sk-toggleable__label {background-color: #d4ebff;}#sk-container-id-1 div.sk-serial::before {content: \"\";position: absolute;border-left: 1px solid gray;box-sizing: border-box;top: 0;bottom: 0;left: 50%;z-index: 0;}#sk-container-id-1 div.sk-serial {display: flex;flex-direction: column;align-items: center;background-color: white;padding-right: 0.2em;padding-left: 0.2em;position: relative;}#sk-container-id-1 div.sk-item {position: relative;z-index: 1;}#sk-container-id-1 div.sk-parallel {display: flex;align-items: stretch;justify-content: center;background-color: white;position: relative;}#sk-container-id-1 div.sk-item::before, #sk-container-id-1 div.sk-parallel-item::before {content: \"\";position: absolute;border-left: 1px solid gray;box-sizing: border-box;top: 0;bottom: 0;left: 50%;z-index: -1;}#sk-container-id-1 div.sk-parallel-item {display: flex;flex-direction: column;z-index: 1;position: relative;background-color: white;}#sk-container-id-1 div.sk-parallel-item:first-child::after {align-self: flex-end;width: 50%;}#sk-container-id-1 div.sk-parallel-item:last-child::after {align-self: flex-start;width: 50%;}#sk-container-id-1 div.sk-parallel-item:only-child::after {width: 0;}#sk-container-id-1 div.sk-dashed-wrapped {border: 1px dashed gray;margin: 0 0.4em 0.5em 0.4em;box-sizing: border-box;padding-bottom: 0.4em;background-color: white;}#sk-container-id-1 div.sk-label label {font-family: monospace;font-weight: bold;display: inline-block;line-height: 1.2em;}#sk-container-id-1 div.sk-label-container {text-align: center;}#sk-container-id-1 div.sk-container {/* jupyter's `normalize.less` sets `[hidden] { display: none; }` but bootstrap.min.css set `[hidden] { display: none !important; }` so we also need the `!important` here to be able to override the default hidden behavior on the sphinx rendered scikit-learn.org. See: https://github.com/scikit-learn/scikit-learn/issues/21755 */display: inline-block !important;position: relative;}#sk-container-id-1 div.sk-text-repr-fallback {display: none;}</style><div id=\"sk-container-id-1\" class=\"sk-top-container\"><div class=\"sk-text-repr-fallback\"><pre>RandomForestRegressor(random_state=42)</pre><b>In a Jupyter environment, please rerun this cell to show the HTML representation or trust the notebook. <br />On GitHub, the HTML representation is unable to render, please try loading this page with nbviewer.org.</b></div><div class=\"sk-container\" hidden><div class=\"sk-item\"><div class=\"sk-estimator sk-toggleable\"><input class=\"sk-toggleable__control sk-hidden--visually\" id=\"sk-estimator-id-1\" type=\"checkbox\" checked><label for=\"sk-estimator-id-1\" class=\"sk-toggleable__label sk-toggleable__label-arrow\">RandomForestRegressor</label><div class=\"sk-toggleable__content\"><pre>RandomForestRegressor(random_state=42)</pre></div></div></div></div></div>"
      ],
      "text/plain": [
       "RandomForestRegressor(random_state=42)"
      ]
     },
     "execution_count": 24,
     "metadata": {},
     "output_type": "execute_result"
    }
   ],
   "source": [
    "# Model Training\n",
    "model.fit(X_train, y_train)"
   ]
  },
  {
   "cell_type": "code",
   "execution_count": 25,
   "id": "56a2bce7",
   "metadata": {},
   "outputs": [],
   "source": [
    "# Model Evaluation\n",
    "y_pred = model.predict(X_test)"
   ]
  },
  {
   "cell_type": "code",
   "execution_count": 26,
   "id": "b9ef5e8a",
   "metadata": {},
   "outputs": [
    {
     "name": "stdout",
     "output_type": "stream",
     "text": [
      "Mean Squared Error: 0.0011\n",
      "Mean Absolute Error: 0.0040\n",
      "R-squared: 0.9998\n"
     ]
    }
   ],
   "source": [
    "# Calculate evaluation metrics\n",
    "mse = mean_squared_error(y_test, y_pred)\n",
    "mae = mean_absolute_error(y_test, y_pred)\n",
    "r2 = r2_score(y_test, y_pred)\n",
    "\n",
    "print(f'Mean Squared Error: {mse:.4f}')\n",
    "print(f'Mean Absolute Error: {mae:.4f}')\n",
    "print(f'R-squared: {r2:.4f}')"
   ]
  },
  {
   "cell_type": "code",
   "execution_count": 27,
   "id": "c90b8ff9",
   "metadata": {},
   "outputs": [
    {
     "name": "stdout",
     "output_type": "stream",
     "text": [
      "Feature Importances:\n",
      "                    Feature  Importance\n",
      "1  CSharing_TokensOfPrompts    0.622078\n",
      "2  CSharing_TokensOfAnswers    0.359255\n",
      "0         Detected Patterns    0.011794\n",
      "3  CSharing_NumberOfPrompts    0.004848\n",
      "4       Conversation_Prompt    0.001446\n",
      "5       Conversation_Answer    0.000579\n"
     ]
    }
   ],
   "source": [
    "# Feature Importance\n",
    "feature_importances = model.feature_importances_\n",
    "feature_names = X.columns\n",
    "importance_df = pd.DataFrame({'Feature': feature_names, 'Importance': feature_importances})\n",
    "importance_df = importance_df.sort_values(by='Importance', ascending=False)\n",
    "\n",
    "print(\"Feature Importances:\")\n",
    "print(importance_df)"
   ]
  },
  {
   "cell_type": "code",
   "execution_count": 28,
   "id": "6f1f309d",
   "metadata": {},
   "outputs": [
    {
     "data": {
      "image/png": "[encoded data removed]",
      "text/plain": [
       "<Figure size 1000x600 with 1 Axes>"
      ]
     },
     "metadata": {},
     "output_type": "display_data"
    }
   ],
   "source": [
    "# Visualize feature importance\n",
    "import matplotlib.pyplot as plt\n",
    "plt.figure(figsize=(10, 6))\n",
    "plt.barh(importance_df['Feature'], importance_df['Importance'], color='skyblue')\n",
    "plt.xlabel('Importance')\n",
    "plt.title('Feature Importances')\n",
    "plt.show()"
   ]
  },
  {
   "cell_type": "code",
   "execution_count": null,
   "id": "86b26787",
   "metadata": {},
   "outputs": [],
   "source": []
  }
 ],
 "metadata": {
  "kernelspec": {
   "display_name": "Python 3 (ipykernel)",
   "language": "python",
   "name": "python3"
  },
  "language_info": {
   "codemirror_mode": {
    "name": "ipython",
    "version": 3
   },
   "file_extension": ".py",
   "mimetype": "text/x-python",
   "name": "python",
   "nbconvert_exporter": "python",
   "pygments_lexer": "ipython3",
   "version": "3.11.8"
  }
 },
 "nbformat": 4,
 "nbformat_minor": 5
}
